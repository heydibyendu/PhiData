{
 "cells": [
  {
   "cell_type": "code",
   "execution_count": 1,
   "id": "440057c4-d418-48a1-9133-e974a950d29b",
   "metadata": {},
   "outputs": [],
   "source": [
    "from phi.agent import Agent # Importing the Agent class\n",
    "from phi.model.ollama import Ollama # Importing the Ollama from the phi.model.ollama module\n",
    "from phi.tools.yfinance import YFinanceTools"
   ]
  },
  {
   "cell_type": "code",
   "execution_count": 2,
   "id": "edce176c-eec7-49d9-9893-c18aa298f44a",
   "metadata": {},
   "outputs": [],
   "source": [
    "# Creating an instance of the Agent class\n",
    "agent = Agent(\n",
    "    # Setting the model used by the agent to an instance of Ollama, ie llama 3.2\n",
    "    model = Ollama(id='llama3.2'),\n",
    "    \n",
    "    # Adding a list of tools to the agent\n",
    "    tools=[YFinanceTools(\n",
    "        # Enabling stock price retrieval in the financial tools\n",
    "        stock_price=True,\n",
    "        # Enabling analyst recommendations retrieval in the financial tools\n",
    "        analyst_recommendations=True,\n",
    "        # Enabling stock fundamentals retrieval in the financial tools\n",
    "        stock_fundamentals=True\n",
    "    )\n",
    "    ],\n",
    "    # The agent is instructed to display data in table format\n",
    "    instructions='Use tables to display data',\n",
    "    \n",
    "    # Enabling the option to show tool calls made by the agent\n",
    "    show_tool_calls=True,\n",
    "    \n",
    "    # Enabling Markdown formatting for the agent's responses\n",
    "    markdown=True,\n",
    ")"
   ]
  },
  {
   "cell_type": "code",
   "execution_count": 3,
   "id": "8fd8293b-29a4-493a-8c02-d89e3e0621ec",
   "metadata": {},
   "outputs": [
    {
     "data": {
      "application/vnd.jupyter.widget-view+json": {
       "model_id": "e4566cdd2492493d809b91c22250d735",
       "version_major": 2,
       "version_minor": 0
      },
      "text/plain": [
       "Output()"
      ]
     },
     "metadata": {},
     "output_type": "display_data"
    },
    {
     "data": {
      "text/html": [
       "<pre style=\"white-space:pre;overflow-x:auto;line-height:normal;font-family:Menlo,'DejaVu Sans Mono',consolas,'Courier New',monospace\"></pre>\n"
      ],
      "text/plain": []
     },
     "metadata": {},
     "output_type": "display_data"
    }
   ],
   "source": [
    "# Process a query and generate a response\n",
    "agent.print_response(\n",
    "    message=\"\"\"\n",
    "    Tell me which of AAPL and MSFT is a better pick.\n",
    "    Summarize and show me in tables.\n",
    "    \"\"\",\n",
    "    \n",
    "    # Enabling streaming output\n",
    "    stream=True\n",
    ")"
   ]
  }
 ],
 "metadata": {
  "kernelspec": {
   "display_name": "Python 3 (ipykernel)",
   "language": "python",
   "name": "python3"
  },
  "language_info": {
   "codemirror_mode": {
    "name": "ipython",
    "version": 3
   },
   "file_extension": ".py",
   "mimetype": "text/x-python",
   "name": "python",
   "nbconvert_exporter": "python",
   "pygments_lexer": "ipython3",
   "version": "3.11.10"
  }
 },
 "nbformat": 4,
 "nbformat_minor": 5
}
